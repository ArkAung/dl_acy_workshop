{
 "nbformat": 4,
 "nbformat_minor": 0,
 "metadata": {
  "colab": {
   "name": "ACY Workshop.ipynb",
   "provenance": [],
   "collapsed_sections": [],
   "toc_visible": true
  },
  "kernelspec": {
   "name": "python3",
   "display_name": "Python 3"
  },
  "accelerator": "GPU"
 },
 "cells": [
  {
   "cell_type": "markdown",
   "metadata": {
    "id": "ezSK-7-ftRX4",
    "colab_type": "text"
   },
   "source": [
    "## ACY Deep Learning Training Ground"
   ]
  },
  {
   "cell_type": "markdown",
   "metadata": {
    "id": "wEzTwxcWtWfy",
    "colab_type": "text"
   },
   "source": [
    "Welcome to Deep Learning Training Ground! Here we are going to train a simple Deep Neural Network which can recognize Myanmar Handwritten Alphabets. First, make sure that your Colab Runtime is using GPU. In order to do so:\n",
    "\n",
    "\n",
    "* Go to Edit > Notebook Settings\n",
    "* Select **GPU** in Hardware Accelerator dropdown\n",
    "* Click on \"Save\"\n",
    "\n"
   ]
  },
  {
   "cell_type": "markdown",
   "metadata": {
    "id": "1O77mmR6tudr",
    "colab_type": "text"
   },
   "source": [
    "### Preparation"
   ]
  },
  {
   "cell_type": "markdown",
   "metadata": {
    "id": "RmkLU1nktNBT",
    "colab_type": "text"
   },
   "source": [
    "Install necessary libraries.\n",
    "\n",
    "\n",
    "*   **Augmentor** is a data agumentation library. As a matter of fact, we don't need to perform prelimenary data augmentation since we can implement data augmentation when the data batches are loaded for training. The purpose of having a separate data augmentation step is for demonstrative purpose.\n",
    "*   **fastai** is the deep learning wrapper library which makes training neural networks extremely easy. **fastai** is a good place to start getting familiar with Deep Learning.\n",
    "* **torch** == `PyTorch` is a deep learning framework by Facebook. It is one of the most popular deep learning frameworks out there. Tensorflow is another extremely popular choice. **fastai** uses `PyTorch` as a backend therefore, we have to install `PyTorch`.\n",
    "\n",
    "* Additionally, we also install `unzip` software to unzip files on Linux.\n",
    "\n"
   ]
  },
  {
   "cell_type": "code",
   "metadata": {
    "id": "hZLZWG71tJiW",
    "colab_type": "code",
    "colab": {}
   },
   "source": [
    "%%sh\n",
    "\n",
    "pip install -q Augmentor\n",
    "pip install -q fastai\n",
    "pip install -q \"torch==1.4\" \"torchvision==0.5.0\"\n",
    "sudo apt-get -q install unzip"
   ],
   "execution_count": null,
   "outputs": []
  },
  {
   "cell_type": "markdown",
   "metadata": {
    "id": "jXPKiQC7tzEZ",
    "colab_type": "text"
   },
   "source": [
    "We have Myanmar Handwritten Alphabets by drawing them in MSPaint with different brushes and uploaded them to [Google Drive](https://drive.google.com/drive/folders/1Dqdn6-I0FRN9tUrNXfUBsG4iaFST07sa?usp=sharing). First, just download that folder as a zipped file and check out the images in there. We are going to train a neural network which can recognize Myanmar Hand written Alphabets from this dataset."
   ]
  },
  {
   "cell_type": "markdown",
   "metadata": {
    "id": "aLnm_ZbC3HQc",
    "colab_type": "text"
   },
   "source": [
    "Download the zip file and upload that zip file here on CoLab."
   ]
  },
  {
   "cell_type": "code",
   "metadata": {
    "id": "RqVofcS-NXhp",
    "colab_type": "code",
    "colab": {}
   },
   "source": [
    "!unzip -qq alphabets.zip"
   ],
   "execution_count": null,
   "outputs": []
  },
  {
   "cell_type": "markdown",
   "metadata": {
    "id": "ZtJPqliUw0eM",
    "colab_type": "text"
   },
   "source": [
    "## Augment Data"
   ]
  },
  {
   "cell_type": "markdown",
   "metadata": {
    "id": "V2uZWUs4_bX3",
    "colab_type": "text"
   },
   "source": [
    "As you are aware of the fact that there only are a few images for each alphabet, and deep learning is such a data hungry technique, we are going to **augment** the data. (Data augmentation = data ကိုတိုးပွားလာအောင်လုပ်သည်)"
   ]
  },
  {
   "cell_type": "markdown",
   "metadata": {
    "id": "LX6cMvl2_zoK",
    "colab_type": "text"
   },
   "source": [
    "Using `Augmentor` library, we are going to create different variants of our original data by applying transformations such as:\n",
    "\n",
    "\n",
    "* Random rotations\n",
    "* Random distortions\n",
    "* Random shearing\n",
    "\n",
    "<img src=\"https://raw.githubusercontent.com/mdbloice/AugmentorFiles/master/UsageGuide/rotate_aug_b.png\" alt=\"Rotation Example\" width=\"100\"/>\n",
    "<img src=\"https://cloud.githubusercontent.com/assets/16042756/23697283/802698a6-03e7-11e7-94b7-f0b61977ef33.gif\" alt=\"Random Distortion\" width=\"100\"/>\n",
    "<img src=\"https://raw.githubusercontent.com/mdbloice/AugmentorFiles/master/UsageGuide/shear_x_aug.png\" alt=\"Shearing along x-axis\" width=\"100\"/>\n",
    "<img src=\"https://raw.githubusercontent.com/mdbloice/AugmentorFiles/master/UsageGuide/shear_y_aug.png\" alt=\"Shearing along y-axis\" width=\"100\"/>\n",
    "\n",
    "Ref: [Augmentor Repo](https://github.com/mdbloice/Augmentor)"
   ]
  },
  {
   "cell_type": "code",
   "metadata": {
    "id": "A3yxYdYKr8p1",
    "colab_type": "code",
    "colab": {}
   },
   "source": [
    "import Augmentor\n",
    "p = Augmentor.Pipeline(\"alphabets\") # Since our images are in \"alphabets\" directory"
   ],
   "execution_count": null,
   "outputs": []
  },
  {
   "cell_type": "code",
   "metadata": {
    "id": "da2rHRKesY19",
    "colab_type": "code",
    "colab": {}
   },
   "source": [
    "p.resize(probability=1, width=100, height=100)\n",
    "p.rotate(probability=0.7, max_left_rotation=10, max_right_rotation=10)\n",
    "p.random_distortion(probability=0.9, grid_width=3, grid_height=3, magnitude=8)\n",
    "p.shear(probability=0.3, max_shear_left=5, max_shear_right=5)"
   ],
   "execution_count": null,
   "outputs": []
  },
  {
   "cell_type": "code",
   "metadata": {
    "id": "dU0kNFrisb6m",
    "colab_type": "code",
    "colab": {}
   },
   "source": [
    "p.process()\n",
    "p.sample(10000)"
   ],
   "execution_count": null,
   "outputs": []
  },
  {
   "cell_type": "markdown",
   "metadata": {
    "id": "toGh5nVBAK_u",
    "colab_type": "text"
   },
   "source": [
    "Augmented images are saved in a folder `output`. We are going to move this to a directory called `train`."
   ]
  },
  {
   "cell_type": "code",
   "metadata": {
    "id": "3hpqqmCLVecD",
    "colab_type": "code",
    "colab": {}
   },
   "source": [
    "!mv alphabets/output train"
   ],
   "execution_count": null,
   "outputs": []
  },
  {
   "cell_type": "markdown",
   "metadata": {
    "id": "aD7u5Kub9fq3",
    "colab_type": "text"
   },
   "source": [
    "## Prepare data for training"
   ]
  },
  {
   "cell_type": "code",
   "metadata": {
    "id": "ysQdmABIUD7-",
    "colab_type": "code",
    "colab": {}
   },
   "source": [
    "from fastai.vision import * "
   ],
   "execution_count": null,
   "outputs": []
  },
  {
   "cell_type": "markdown",
   "metadata": {
    "id": "TW7EoJWABfHO",
    "colab_type": "text"
   },
   "source": [
    "We have folders containing image files of each alphabet in a parent folder called \"train\". In oroder to train a neural network, we have to prepare those images in a format which the neural network can consume."
   ]
  },
  {
   "cell_type": "code",
   "metadata": {
    "id": "jHXII64PUPJg",
    "colab_type": "code",
    "colab": {}
   },
   "source": [
    "path=\"train\"\n",
    "np.random.seed(42)\n",
    "data = ImageDataBunch.from_folder(path, train=path,valid_pct=0.2,\n",
    "                                  ds_tfms=get_transforms(do_flip=False, max_rotate=2.0,\n",
    "                                                         max_zoom=1, max_warp=0.0,\n",
    "                                                         p_affine=0.0),\n",
    "                                  size=100, num_workers=4)"
   ],
   "execution_count": null,
   "outputs": []
  },
  {
   "cell_type": "markdown",
   "metadata": {
    "id": "sahi7RrB9k_2",
    "colab_type": "text"
   },
   "source": [
    "## Visualize Training Data"
   ]
  },
  {
   "cell_type": "code",
   "metadata": {
    "id": "9gkcUQqnbEtA",
    "colab_type": "code",
    "colab": {}
   },
   "source": [
    "data.show_batch()"
   ],
   "execution_count": null,
   "outputs": []
  },
  {
   "cell_type": "markdown",
   "metadata": {
    "id": "gLu3ED_T9rdD",
    "colab_type": "text"
   },
   "source": [
    "## Create Deep Neural Network to Train on Data"
   ]
  },
  {
   "cell_type": "markdown",
   "metadata": {
    "id": "Wi652pcjCDf3",
    "colab_type": "text"
   },
   "source": [
    "We are going to use a neural network architecture called [AlexNet](https://papers.nips.cc/paper/4824-imagenet-classification-with-deep-convolutional-neural-networks.pdf).\n",
    "We are going to measure how well our neural network is doing by two metrics, Error Rate and Accuracy."
   ]
  },
  {
   "cell_type": "code",
   "metadata": {
    "id": "-zMno3-BV7QW",
    "colab_type": "code",
    "colab": {}
   },
   "source": [
    "from fastai.metrics import error_rate\n",
    "learn = cnn_learner(data, models.alexnet, metrics=[error_rate, accuracy],\n",
    "                    model_dir=\"/content/model/\")"
   ],
   "execution_count": null,
   "outputs": []
  },
  {
   "cell_type": "markdown",
   "metadata": {
    "id": "qpJTnVq29vb0",
    "colab_type": "text"
   },
   "source": [
    "## Start Training"
   ]
  },
  {
   "cell_type": "markdown",
   "metadata": {
    "id": "MPJcfVblCaTE",
    "colab_type": "text"
   },
   "source": [
    "Since we are using Google CoLab with GPU, we can specify 'cuda' here. If you only have a CPU available (for example, on your machine), you would have to specify cpu here."
   ]
  },
  {
   "cell_type": "markdown",
   "metadata": {
    "id": "Z2xPv19JDWVE",
    "colab_type": "text"
   },
   "source": [
    "Then, start training the neural network for 4 epochs using [Cyclical Learning Rates](https://arxiv.org/pdf/1506.01186.pdf)."
   ]
  },
  {
   "cell_type": "code",
   "metadata": {
    "id": "OxnteXEXYLr-",
    "colab_type": "code",
    "colab": {}
   },
   "source": [
    "defaults.device = torch.device('cuda')\n",
    "learn.fit_one_cycle(4)"
   ],
   "execution_count": null,
   "outputs": []
  },
  {
   "cell_type": "markdown",
   "metadata": {
    "id": "snNRv_Z69yjD",
    "colab_type": "text"
   },
   "source": [
    "## Understanding the results"
   ]
  },
  {
   "cell_type": "code",
   "metadata": {
    "id": "V1TP62Seaxqp",
    "colab_type": "code",
    "colab": {}
   },
   "source": [
    "interp = ClassificationInterpretation.from_learner(learn)"
   ],
   "execution_count": null,
   "outputs": []
  },
  {
   "cell_type": "code",
   "metadata": {
    "id": "wBJOxeUxa8G0",
    "colab_type": "code",
    "colab": {}
   },
   "source": [
    "interp.plot_top_losses(9, figsize=(6,6))"
   ],
   "execution_count": null,
   "outputs": []
  },
  {
   "cell_type": "code",
   "metadata": {
    "id": "WR6ri06Abmpc",
    "colab_type": "code",
    "colab": {}
   },
   "source": [
    "interp.plot_confusion_matrix()"
   ],
   "execution_count": null,
   "outputs": []
  },
  {
   "cell_type": "markdown",
   "metadata": {
    "id": "u_z5RqRh96S_",
    "colab_type": "text"
   },
   "source": [
    "## Export the Trained Model"
   ]
  },
  {
   "cell_type": "code",
   "metadata": {
    "id": "-r2aQIl4cuPm",
    "colab_type": "code",
    "colab": {}
   },
   "source": [
    "learn.export()"
   ],
   "execution_count": null,
   "outputs": []
  },
  {
   "cell_type": "markdown",
   "metadata": {
    "id": "9w3KGkt0xoq9",
    "colab_type": "text"
   },
   "source": [
    "## Loading saved model to make prediction on a single image"
   ]
  },
  {
   "cell_type": "code",
   "metadata": {
    "id": "1yyUM5HqndFQ",
    "colab_type": "code",
    "colab": {}
   },
   "source": [
    "from fastai.vision import *"
   ],
   "execution_count": null,
   "outputs": []
  },
  {
   "cell_type": "code",
   "metadata": {
    "id": "UWdU9wFHh-KF",
    "colab_type": "code",
    "colab": {}
   },
   "source": [
    "learn = load_learner('train', 'export.pkl')\n",
    "im = open_image('/content/alphabets/ခ/Annotation 2020-06-27 205404.png')\n",
    "preds_class, preds_idx, preds_output = learn.predict(im)\n",
    "class_idx = preds_class.data.item()\n",
    "mapping = {v:k for k,v in learn.data.c2i.items()}"
   ],
   "execution_count": null,
   "outputs": []
  },
  {
   "cell_type": "code",
   "metadata": {
    "id": "wxxu4Tjaq9kd",
    "colab_type": "code",
    "colab": {}
   },
   "source": [
    "im.show()\n",
    "print(\"Result is: {}\".format(mapping[class_idx]))"
   ],
   "execution_count": null,
   "outputs": []
  },
  {
   "cell_type": "markdown",
   "metadata": {
    "id": "Jc-NicBCwqlN",
    "colab_type": "text"
   },
   "source": [
    "## Setting up a webserver to predict hand written alphabets"
   ]
  },
  {
   "cell_type": "markdown",
   "metadata": {
    "id": "wT8FJmdr3RiE",
    "colab_type": "text"
   },
   "source": [
    "Install necessary libraries for Flask server"
   ]
  },
  {
   "cell_type": "code",
   "metadata": {
    "id": "A1PtN41arGgk",
    "colab_type": "code",
    "colab": {}
   },
   "source": [
    "%%sh\n",
    "\n",
    "pip install -q flask-ngrok\n",
    "pip install -q flask==0.12.2\n",
    "pip install -q Werkzeug==0.16.1"
   ],
   "execution_count": null,
   "outputs": []
  },
  {
   "cell_type": "markdown",
   "metadata": {
    "id": "4oZc8LaUyY1H",
    "colab_type": "text"
   },
   "source": [
    "Prepare source for webserver"
   ]
  },
  {
   "cell_type": "code",
   "metadata": {
    "id": "B5Fn8G0xX-Oq",
    "colab_type": "code",
    "colab": {}
   },
   "source": [
    "%%sh\n",
    "git clone https://github.com/ArkAung/dl_acy_workshop.git\n",
    "mv dl_acy_workshop/alphabet_webserver.py .\n",
    "mv dl_acy_workshop/templates ."
   ],
   "execution_count": null,
   "outputs": []
  },
  {
   "cell_type": "markdown",
   "metadata": {
    "id": "XlWNPvwMYmAA",
    "colab_type": "text"
   },
   "source": [
    "## Run the Webserver"
   ]
  },
  {
   "cell_type": "code",
   "metadata": {
    "id": "7QBQTDJcYH8R",
    "colab_type": "code",
    "colab": {}
   },
   "source": [
    "!python alphabet_webserver.py"
   ],
   "execution_count": null,
   "outputs": []
  }
 ]
}